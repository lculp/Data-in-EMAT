{
 "cells": [
  {
   "cell_type": "markdown",
   "id": "18b8d056-e2b5-4bf9-99d1-d4cab73d947c",
   "metadata": {},
   "source": [
    "# Lana Culp - 11.20.2024 - Spotify Analysis Report \n",
    "#### Albums Chosen\n",
    "1. Arcane League of Legends (Soundtrack from the Animated Series) \n",
    "3. Arcane League of Legends: Season 2 (from the series Arcane League of Legends)\n",
    "\n",
    "#### The Meaning\n",
    "These albums comes from one of my favorite animated series on Netflix that has the most beautiful artwork and moving songs. Recently, Season 2 has been coming out in parts, and it is so good. I absolutely love the series, so I thought it would be fitting for me to use the soundtracks from both seasons since they are fresh in my mind and very emotionally driven."
   ]
  },
  {
   "cell_type": "code",
   "execution_count": 303,
   "id": "ec0ca0e9-ee5f-4f07-bb20-dcdf29e69f45",
   "metadata": {},
   "outputs": [],
   "source": [
    "import urllib\n",
    "import requests\n",
    "import pandas as pd \n",
    "import json\n",
    "import base64\n",
    "from matplotlib import pyplot as plt\n",
    "import matplotlib.ticker as ticker\n",
    "import seaborn as sns\n",
    "from scipy import stats\n",
    "import statsmodels.formula.api as smf\n",
    "import numpy as np"
   ]
  },
  {
   "cell_type": "code",
   "execution_count": 172,
   "id": "74d3c015-8617-4d07-a776-9567bb3dd5ba",
   "metadata": {},
   "outputs": [],
   "source": [
    "def get_session_token(SessionID, SessionKey):\n",
    "    url = 'https://accounts.spotify.com/api/token'\n",
    "    data = {'grant_type':'client_credentials'}\n",
    "    encoded_key = base64.b64encode(str(SessionID + \":\" + SessionKey).\\\n",
    "                                  encode(\"ascii\"))\n",
    "    header = {'Authorization':'Basic {}'.format(encoded_key.decode(\"ascii\"))}\n",
    "    response = requests.post(url, \n",
    "                            data = data, \n",
    "                            headers = header)\n",
    "    print(response.status_code)\n",
    "    return response.json()['access_token']"
   ]
  },
  {
   "cell_type": "code",
   "execution_count": 173,
   "id": "f1dabdb8-888c-48e3-8c57-cf284c0c38b0",
   "metadata": {},
   "outputs": [],
   "source": [
    "keys = pd.read_csv(\"text_files_SpotifyAPI.txt\")"
   ]
  },
  {
   "cell_type": "code",
   "execution_count": 174,
   "id": "29fc08b9-b476-461d-8c36-4b7d1462eeab",
   "metadata": {},
   "outputs": [],
   "source": [
    "#keys"
   ]
  },
  {
   "cell_type": "code",
   "execution_count": 175,
   "id": "d5d19acb-6f0e-4f18-b95e-2a7d39c1924f",
   "metadata": {},
   "outputs": [
    {
     "name": "stdout",
     "output_type": "stream",
     "text": [
      "200\n"
     ]
    }
   ],
   "source": [
    "access_token = get_session_token(keys['Client_ID'].iloc[0], keys['Client_Secret'].iloc[0])"
   ]
  },
  {
   "cell_type": "code",
   "execution_count": 176,
   "id": "d89a3244-21e9-448c-a2d3-91bb8231a52b",
   "metadata": {},
   "outputs": [],
   "source": [
    "t_features_ep = 'https://api.spotify.com/v1/audio-features'\n",
    "tracks_ep = 'https://api.spotify.com/v1/tracks'\n",
    "ab_tracks_ep = 'https://api.spotify.com/v1/albums/{}/tracks'"
   ]
  },
  {
   "cell_type": "code",
   "execution_count": 177,
   "id": "5df112d6-82f0-4f1e-99a2-f7240377fee1",
   "metadata": {},
   "outputs": [],
   "source": [
    "def api_call(endpoint_url, api_header):\n",
    "    response = requests.get(endpoint_url, headers = api_header)\n",
    "    print(response.status_code)\n",
    "    return response.json()"
   ]
  },
  {
   "cell_type": "code",
   "execution_count": 178,
   "id": "c0ed4b48-f40e-4633-958d-e380b22fb729",
   "metadata": {},
   "outputs": [],
   "source": [
    "session_header = {'Authorization': 'Bearer {}'.format(access_token)}"
   ]
  },
  {
   "cell_type": "markdown",
   "id": "01d59dfc-5ca8-4e51-8679-a7641e4914e6",
   "metadata": {},
   "source": [
    "## Artist Albums\n",
    "Below I am taking the album ID of the 2 albums I will be exploring."
   ]
  },
  {
   "cell_type": "code",
   "execution_count": 179,
   "id": "b50d6b0b-8e7a-4ab2-8ceb-f24d5794188d",
   "metadata": {},
   "outputs": [],
   "source": [
    "s1_album_id = '0jV32pIk8l3vTaU3thTaW2'\n",
    "s2_album_id = '6Db8Sq5w6Brg7lkpg7Y9ls'"
   ]
  },
  {
   "cell_type": "code",
   "execution_count": 180,
   "id": "3c1ac2a1-146b-4169-b3af-f8874fc397c2",
   "metadata": {
    "scrolled": true
   },
   "outputs": [
    {
     "name": "stdout",
     "output_type": "stream",
     "text": [
      "200\n",
      "200\n"
     ]
    }
   ],
   "source": [
    "s1_album_response = api_call(ab_tracks_ep.format(s1_album_id), session_header)\n",
    "s2_album_response = api_call(ab_tracks_ep.format(s2_album_id), session_header)"
   ]
  },
  {
   "cell_type": "code",
   "execution_count": 181,
   "id": "869399f1-557b-4b7a-96c7-54c833a33e8d",
   "metadata": {},
   "outputs": [],
   "source": [
    "s1_album_df = pd.DataFrame(s1_album_response['items'])\n",
    "s2_album_df = pd.DataFrame(s2_album_response['items'])"
   ]
  },
  {
   "cell_type": "markdown",
   "id": "9e1ad8d8-590b-43bd-9de9-b0398c60ab36",
   "metadata": {},
   "source": [
    "## Artist Tracks & Track Features\n",
    "Below I am taking the tracks from each album."
   ]
  },
  {
   "cell_type": "code",
   "execution_count": 182,
   "id": "833dcb9a-c721-4e38-ac37-3de277102ff2",
   "metadata": {},
   "outputs": [],
   "source": [
    "s1_track_ids = ','.join(s1_album_df['id'].to_list())\n",
    "s2_track_ids = ','.join(s2_album_df['id'].to_list())"
   ]
  },
  {
   "cell_type": "code",
   "execution_count": 183,
   "id": "5c44ac69-22e2-4546-85f8-cc5a321e19b0",
   "metadata": {},
   "outputs": [
    {
     "data": {
      "text/plain": [
       "'https://api.spotify.com/v1/audio-features?ids=5cRDr86y5LGJSzWyiEE21M,6Mf9UqNMc22JktEOUn25ad,3gXqz0S2KmgNIAVjqbZ1e2,7yUMsB2mjbhcWl3VZfnnqo,72GsidlGNq4DVig0RYzZ3q,1yBoI01Y9dpPwqk9qBi44d,14HLJK4Vm5Bw2y1zDvTDEj,0aJNOA7ycPQJKADfmGqzz7,1byMfvmJMRzNBz458rrYE4,55J8LABswOlznJHhYvYQNE,6YB9jhzVEzw8CKeXD7Vx8j'"
      ]
     },
     "execution_count": 183,
     "metadata": {},
     "output_type": "execute_result"
    }
   ],
   "source": [
    "t_features_ep + '?ids={}'.format(s1_track_ids)"
   ]
  },
  {
   "cell_type": "code",
   "execution_count": 184,
   "id": "c7ea35f4-d6aa-46f9-bdea-8d238535a2c8",
   "metadata": {},
   "outputs": [
    {
     "name": "stdout",
     "output_type": "stream",
     "text": [
      "200\n",
      "200\n"
     ]
    }
   ],
   "source": [
    "s1_track_features = api_call(t_features_ep + '?ids={}'.format(s1_track_ids), \n",
    "                             session_header)\n",
    "s2_track_features = api_call(t_features_ep + '?ids={}'.format(s2_track_ids), \n",
    "                             session_header)"
   ]
  },
  {
   "cell_type": "code",
   "execution_count": 185,
   "id": "993523f1-a0b9-42af-b317-b3595d60962c",
   "metadata": {},
   "outputs": [
    {
     "name": "stdout",
     "output_type": "stream",
     "text": [
      "200\n",
      "200\n"
     ]
    }
   ],
   "source": [
    "s1_track_info = api_call(tracks_ep + '?market=US&ids={}'.format(s1_track_ids), \n",
    "                             session_header)\n",
    "s2_track_info = api_call(tracks_ep + '?market=US&ids={}'.format(s2_track_ids), \n",
    "                             session_header)"
   ]
  },
  {
   "cell_type": "code",
   "execution_count": 186,
   "id": "4ad2aaac-7d7f-4b2c-b345-02ed425d2cab",
   "metadata": {},
   "outputs": [],
   "source": [
    "s1_features_df = pd.DataFrame(s1_track_features['audio_features'])\n",
    "s2_features_df = pd.DataFrame(s2_track_features['audio_features'])\n",
    "\n",
    "#s1_features_df.head()"
   ]
  },
  {
   "cell_type": "code",
   "execution_count": 187,
   "id": "d0238c8b-2442-4459-8f17-633a7c67cb49",
   "metadata": {},
   "outputs": [],
   "source": [
    "s1_tracks_df = pd.DataFrame(s1_track_info['tracks'])\n",
    "s2_tracks_df = pd.DataFrame(s2_track_info['tracks'])\n",
    "\n",
    "#s1_tracks_df.head()"
   ]
  },
  {
   "cell_type": "markdown",
   "id": "9b45a283-0e0d-49f2-9faf-e540cbc86b2c",
   "metadata": {},
   "source": [
    "## Album Merged Data \n",
    "Below I am merging the data from both the albums' features and tracks. I am the sorting the information from most popular to least popular using the \"popularity\" key displaying only the head of the data."
   ]
  },
  {
   "cell_type": "code",
   "execution_count": 188,
   "id": "0b6bb4ab-713e-4775-b50e-589b74cd4d33",
   "metadata": {},
   "outputs": [
    {
     "data": {
      "text/html": [
       "<div>\n",
       "<style scoped>\n",
       "    .dataframe tbody tr th:only-of-type {\n",
       "        vertical-align: middle;\n",
       "    }\n",
       "\n",
       "    .dataframe tbody tr th {\n",
       "        vertical-align: top;\n",
       "    }\n",
       "\n",
       "    .dataframe thead th {\n",
       "        text-align: right;\n",
       "    }\n",
       "</style>\n",
       "<table border=\"1\" class=\"dataframe\">\n",
       "  <thead>\n",
       "    <tr style=\"text-align: right;\">\n",
       "      <th></th>\n",
       "      <th>danceability</th>\n",
       "      <th>energy</th>\n",
       "      <th>key</th>\n",
       "      <th>loudness</th>\n",
       "      <th>mode</th>\n",
       "      <th>speechiness</th>\n",
       "      <th>acousticness</th>\n",
       "      <th>instrumentalness</th>\n",
       "      <th>liveness</th>\n",
       "      <th>valence</th>\n",
       "      <th>...</th>\n",
       "      <th>external_urls</th>\n",
       "      <th>href</th>\n",
       "      <th>is_local</th>\n",
       "      <th>is_playable</th>\n",
       "      <th>name</th>\n",
       "      <th>popularity</th>\n",
       "      <th>preview_url</th>\n",
       "      <th>track_number</th>\n",
       "      <th>type_y</th>\n",
       "      <th>uri_y</th>\n",
       "    </tr>\n",
       "  </thead>\n",
       "  <tbody>\n",
       "    <tr>\n",
       "      <th>10</th>\n",
       "      <td>0.440</td>\n",
       "      <td>0.288</td>\n",
       "      <td>5</td>\n",
       "      <td>-8.897</td>\n",
       "      <td>0</td>\n",
       "      <td>0.0386</td>\n",
       "      <td>0.576000</td>\n",
       "      <td>0.001280</td>\n",
       "      <td>0.0802</td>\n",
       "      <td>0.1760</td>\n",
       "      <td>...</td>\n",
       "      <td>{'spotify': 'https://open.spotify.com/track/6Y...</td>\n",
       "      <td>https://api.spotify.com/v1/tracks/6YB9jhzVEzw8...</td>\n",
       "      <td>False</td>\n",
       "      <td>True</td>\n",
       "      <td>What Could Have Been (from the series Arcane L...</td>\n",
       "      <td>65</td>\n",
       "      <td>https://p.scdn.co/mp3-preview/f8484f2a83175bf4...</td>\n",
       "      <td>11</td>\n",
       "      <td>track</td>\n",
       "      <td>spotify:track:6YB9jhzVEzw8CKeXD7Vx8j</td>\n",
       "    </tr>\n",
       "    <tr>\n",
       "      <th>7</th>\n",
       "      <td>0.704</td>\n",
       "      <td>0.835</td>\n",
       "      <td>1</td>\n",
       "      <td>-5.167</td>\n",
       "      <td>1</td>\n",
       "      <td>0.0552</td>\n",
       "      <td>0.013700</td>\n",
       "      <td>0.000000</td>\n",
       "      <td>0.0982</td>\n",
       "      <td>0.8920</td>\n",
       "      <td>...</td>\n",
       "      <td>{'spotify': 'https://open.spotify.com/track/0a...</td>\n",
       "      <td>https://api.spotify.com/v1/tracks/0aJNOA7ycPQJ...</td>\n",
       "      <td>False</td>\n",
       "      <td>True</td>\n",
       "      <td>Dynasties and Dystopia (from the series Arcane...</td>\n",
       "      <td>60</td>\n",
       "      <td>https://p.scdn.co/mp3-preview/0e1ec79227291e28...</td>\n",
       "      <td>8</td>\n",
       "      <td>track</td>\n",
       "      <td>spotify:track:0aJNOA7ycPQJKADfmGqzz7</td>\n",
       "    </tr>\n",
       "    <tr>\n",
       "      <th>0</th>\n",
       "      <td>0.515</td>\n",
       "      <td>0.704</td>\n",
       "      <td>8</td>\n",
       "      <td>-6.834</td>\n",
       "      <td>1</td>\n",
       "      <td>0.0294</td>\n",
       "      <td>0.010000</td>\n",
       "      <td>0.000062</td>\n",
       "      <td>0.1290</td>\n",
       "      <td>0.3500</td>\n",
       "      <td>...</td>\n",
       "      <td>{'spotify': 'https://open.spotify.com/track/5c...</td>\n",
       "      <td>https://api.spotify.com/v1/tracks/5cRDr86y5LGJ...</td>\n",
       "      <td>False</td>\n",
       "      <td>True</td>\n",
       "      <td>Playground (from the series Arcane League of L...</td>\n",
       "      <td>59</td>\n",
       "      <td>https://p.scdn.co/mp3-preview/791f3b06ef3c201c...</td>\n",
       "      <td>1</td>\n",
       "      <td>track</td>\n",
       "      <td>spotify:track:5cRDr86y5LGJSzWyiEE21M</td>\n",
       "    </tr>\n",
       "    <tr>\n",
       "      <th>8</th>\n",
       "      <td>0.423</td>\n",
       "      <td>0.842</td>\n",
       "      <td>1</td>\n",
       "      <td>-6.240</td>\n",
       "      <td>0</td>\n",
       "      <td>0.2360</td>\n",
       "      <td>0.000396</td>\n",
       "      <td>0.000907</td>\n",
       "      <td>0.3780</td>\n",
       "      <td>0.3420</td>\n",
       "      <td>...</td>\n",
       "      <td>{'spotify': 'https://open.spotify.com/track/1b...</td>\n",
       "      <td>https://api.spotify.com/v1/tracks/1byMfvmJMRzN...</td>\n",
       "      <td>False</td>\n",
       "      <td>True</td>\n",
       "      <td>Snakes (from the series Arcane League of Legends)</td>\n",
       "      <td>57</td>\n",
       "      <td>https://p.scdn.co/mp3-preview/1e84827c997f54d8...</td>\n",
       "      <td>9</td>\n",
       "      <td>track</td>\n",
       "      <td>spotify:track:1byMfvmJMRzNBz458rrYE4</td>\n",
       "    </tr>\n",
       "    <tr>\n",
       "      <th>2</th>\n",
       "      <td>0.365</td>\n",
       "      <td>0.318</td>\n",
       "      <td>10</td>\n",
       "      <td>-11.775</td>\n",
       "      <td>0</td>\n",
       "      <td>0.0360</td>\n",
       "      <td>0.663000</td>\n",
       "      <td>0.000622</td>\n",
       "      <td>0.1010</td>\n",
       "      <td>0.0489</td>\n",
       "      <td>...</td>\n",
       "      <td>{'spotify': 'https://open.spotify.com/track/3g...</td>\n",
       "      <td>https://api.spotify.com/v1/tracks/3gXqz0S2KmgN...</td>\n",
       "      <td>False</td>\n",
       "      <td>True</td>\n",
       "      <td>Goodbye (from the series Arcane League of Lege...</td>\n",
       "      <td>56</td>\n",
       "      <td>https://p.scdn.co/mp3-preview/ec05daa7fa309009...</td>\n",
       "      <td>3</td>\n",
       "      <td>track</td>\n",
       "      <td>spotify:track:3gXqz0S2KmgNIAVjqbZ1e2</td>\n",
       "    </tr>\n",
       "  </tbody>\n",
       "</table>\n",
       "<p>5 rows × 34 columns</p>\n",
       "</div>"
      ],
      "text/plain": [
       "    danceability  energy  key  loudness  mode  speechiness  acousticness  \\\n",
       "10         0.440   0.288    5    -8.897     0       0.0386      0.576000   \n",
       "7          0.704   0.835    1    -5.167     1       0.0552      0.013700   \n",
       "0          0.515   0.704    8    -6.834     1       0.0294      0.010000   \n",
       "8          0.423   0.842    1    -6.240     0       0.2360      0.000396   \n",
       "2          0.365   0.318   10   -11.775     0       0.0360      0.663000   \n",
       "\n",
       "    instrumentalness  liveness  valence  ...  \\\n",
       "10          0.001280    0.0802   0.1760  ...   \n",
       "7           0.000000    0.0982   0.8920  ...   \n",
       "0           0.000062    0.1290   0.3500  ...   \n",
       "8           0.000907    0.3780   0.3420  ...   \n",
       "2           0.000622    0.1010   0.0489  ...   \n",
       "\n",
       "                                        external_urls  \\\n",
       "10  {'spotify': 'https://open.spotify.com/track/6Y...   \n",
       "7   {'spotify': 'https://open.spotify.com/track/0a...   \n",
       "0   {'spotify': 'https://open.spotify.com/track/5c...   \n",
       "8   {'spotify': 'https://open.spotify.com/track/1b...   \n",
       "2   {'spotify': 'https://open.spotify.com/track/3g...   \n",
       "\n",
       "                                                 href is_local is_playable  \\\n",
       "10  https://api.spotify.com/v1/tracks/6YB9jhzVEzw8...    False        True   \n",
       "7   https://api.spotify.com/v1/tracks/0aJNOA7ycPQJ...    False        True   \n",
       "0   https://api.spotify.com/v1/tracks/5cRDr86y5LGJ...    False        True   \n",
       "8   https://api.spotify.com/v1/tracks/1byMfvmJMRzN...    False        True   \n",
       "2   https://api.spotify.com/v1/tracks/3gXqz0S2KmgN...    False        True   \n",
       "\n",
       "                                                 name popularity  \\\n",
       "10  What Could Have Been (from the series Arcane L...         65   \n",
       "7   Dynasties and Dystopia (from the series Arcane...         60   \n",
       "0   Playground (from the series Arcane League of L...         59   \n",
       "8   Snakes (from the series Arcane League of Legends)         57   \n",
       "2   Goodbye (from the series Arcane League of Lege...         56   \n",
       "\n",
       "                                          preview_url  track_number type_y  \\\n",
       "10  https://p.scdn.co/mp3-preview/f8484f2a83175bf4...            11  track   \n",
       "7   https://p.scdn.co/mp3-preview/0e1ec79227291e28...             8  track   \n",
       "0   https://p.scdn.co/mp3-preview/791f3b06ef3c201c...             1  track   \n",
       "8   https://p.scdn.co/mp3-preview/1e84827c997f54d8...             9  track   \n",
       "2   https://p.scdn.co/mp3-preview/ec05daa7fa309009...             3  track   \n",
       "\n",
       "                                   uri_y  \n",
       "10  spotify:track:6YB9jhzVEzw8CKeXD7Vx8j  \n",
       "7   spotify:track:0aJNOA7ycPQJKADfmGqzz7  \n",
       "0   spotify:track:5cRDr86y5LGJSzWyiEE21M  \n",
       "8   spotify:track:1byMfvmJMRzNBz458rrYE4  \n",
       "2   spotify:track:3gXqz0S2KmgNIAVjqbZ1e2  \n",
       "\n",
       "[5 rows x 34 columns]"
      ]
     },
     "execution_count": 188,
     "metadata": {},
     "output_type": "execute_result"
    }
   ],
   "source": [
    "s1_merged = pd.merge(s1_features_df, s1_tracks_df, \n",
    "         how = 'inner', on = 'id').\\\n",
    "sort_values('popularity', ascending = False).head()\n",
    "s1_merged.head()"
   ]
  },
  {
   "cell_type": "code",
   "execution_count": 189,
   "id": "a29b9601-0949-4ac1-b021-3413f261c956",
   "metadata": {},
   "outputs": [
    {
     "data": {
      "text/html": [
       "<div>\n",
       "<style scoped>\n",
       "    .dataframe tbody tr th:only-of-type {\n",
       "        vertical-align: middle;\n",
       "    }\n",
       "\n",
       "    .dataframe tbody tr th {\n",
       "        vertical-align: top;\n",
       "    }\n",
       "\n",
       "    .dataframe thead th {\n",
       "        text-align: right;\n",
       "    }\n",
       "</style>\n",
       "<table border=\"1\" class=\"dataframe\">\n",
       "  <thead>\n",
       "    <tr style=\"text-align: right;\">\n",
       "      <th></th>\n",
       "      <th>danceability</th>\n",
       "      <th>energy</th>\n",
       "      <th>key</th>\n",
       "      <th>loudness</th>\n",
       "      <th>mode</th>\n",
       "      <th>speechiness</th>\n",
       "      <th>acousticness</th>\n",
       "      <th>instrumentalness</th>\n",
       "      <th>liveness</th>\n",
       "      <th>valence</th>\n",
       "      <th>...</th>\n",
       "      <th>external_urls</th>\n",
       "      <th>href</th>\n",
       "      <th>is_local</th>\n",
       "      <th>is_playable</th>\n",
       "      <th>name</th>\n",
       "      <th>popularity</th>\n",
       "      <th>preview_url</th>\n",
       "      <th>track_number</th>\n",
       "      <th>type_y</th>\n",
       "      <th>uri_y</th>\n",
       "    </tr>\n",
       "  </thead>\n",
       "  <tbody>\n",
       "    <tr>\n",
       "      <th>5</th>\n",
       "      <td>0.475</td>\n",
       "      <td>0.701</td>\n",
       "      <td>6</td>\n",
       "      <td>-7.050</td>\n",
       "      <td>1</td>\n",
       "      <td>0.0463</td>\n",
       "      <td>0.008280</td>\n",
       "      <td>0.037600</td>\n",
       "      <td>0.127</td>\n",
       "      <td>0.2900</td>\n",
       "      <td>...</td>\n",
       "      <td>{'spotify': 'https://open.spotify.com/track/7f...</td>\n",
       "      <td>https://api.spotify.com/v1/tracks/7fotwkvGTsn0...</td>\n",
       "      <td>False</td>\n",
       "      <td>True</td>\n",
       "      <td>To Ashes and Blood (from the series Arcane Lea...</td>\n",
       "      <td>71</td>\n",
       "      <td>https://p.scdn.co/mp3-preview/ab36e7159aa8d6c2...</td>\n",
       "      <td>6</td>\n",
       "      <td>track</td>\n",
       "      <td>spotify:track:7fotwkvGTsn0N6KSia3TGW</td>\n",
       "    </tr>\n",
       "    <tr>\n",
       "      <th>3</th>\n",
       "      <td>0.628</td>\n",
       "      <td>0.902</td>\n",
       "      <td>2</td>\n",
       "      <td>-4.906</td>\n",
       "      <td>1</td>\n",
       "      <td>0.1740</td>\n",
       "      <td>0.003780</td>\n",
       "      <td>0.010500</td>\n",
       "      <td>0.409</td>\n",
       "      <td>0.7180</td>\n",
       "      <td>...</td>\n",
       "      <td>{'spotify': 'https://open.spotify.com/track/3E...</td>\n",
       "      <td>https://api.spotify.com/v1/tracks/3EV36iJa1lmF...</td>\n",
       "      <td>False</td>\n",
       "      <td>True</td>\n",
       "      <td>Renegade (We Never Run) (from the series Arcan...</td>\n",
       "      <td>69</td>\n",
       "      <td>https://p.scdn.co/mp3-preview/842b142381f2a53e...</td>\n",
       "      <td>4</td>\n",
       "      <td>track</td>\n",
       "      <td>spotify:track:3EV36iJa1lmFNutg3H7sUL</td>\n",
       "    </tr>\n",
       "    <tr>\n",
       "      <th>0</th>\n",
       "      <td>0.458</td>\n",
       "      <td>0.589</td>\n",
       "      <td>0</td>\n",
       "      <td>-8.305</td>\n",
       "      <td>1</td>\n",
       "      <td>0.0271</td>\n",
       "      <td>0.006410</td>\n",
       "      <td>0.000576</td>\n",
       "      <td>0.140</td>\n",
       "      <td>0.0554</td>\n",
       "      <td>...</td>\n",
       "      <td>{'spotify': 'https://open.spotify.com/track/5Y...</td>\n",
       "      <td>https://api.spotify.com/v1/tracks/5YlMdOkIHnEG...</td>\n",
       "      <td>False</td>\n",
       "      <td>True</td>\n",
       "      <td>Heavy Is The Crown (Original Score) (from the ...</td>\n",
       "      <td>68</td>\n",
       "      <td>https://p.scdn.co/mp3-preview/73ce637e23856241...</td>\n",
       "      <td>1</td>\n",
       "      <td>track</td>\n",
       "      <td>spotify:track:5YlMdOkIHnEGa7m2Ezh5uS</td>\n",
       "    </tr>\n",
       "    <tr>\n",
       "      <th>2</th>\n",
       "      <td>0.479</td>\n",
       "      <td>0.751</td>\n",
       "      <td>8</td>\n",
       "      <td>-5.794</td>\n",
       "      <td>0</td>\n",
       "      <td>0.0580</td>\n",
       "      <td>0.019200</td>\n",
       "      <td>0.000019</td>\n",
       "      <td>0.111</td>\n",
       "      <td>0.5680</td>\n",
       "      <td>...</td>\n",
       "      <td>{'spotify': 'https://open.spotify.com/track/7d...</td>\n",
       "      <td>https://api.spotify.com/v1/tracks/7dsO7sKTEdix...</td>\n",
       "      <td>False</td>\n",
       "      <td>True</td>\n",
       "      <td>Sucker (from the series Arcane League of Legends)</td>\n",
       "      <td>68</td>\n",
       "      <td>https://p.scdn.co/mp3-preview/78d2538562c38098...</td>\n",
       "      <td>3</td>\n",
       "      <td>track</td>\n",
       "      <td>spotify:track:7dsO7sKTEdix1pe1t7SmP0</td>\n",
       "    </tr>\n",
       "    <tr>\n",
       "      <th>4</th>\n",
       "      <td>0.607</td>\n",
       "      <td>0.862</td>\n",
       "      <td>9</td>\n",
       "      <td>-5.223</td>\n",
       "      <td>1</td>\n",
       "      <td>0.1200</td>\n",
       "      <td>0.000587</td>\n",
       "      <td>0.000000</td>\n",
       "      <td>0.461</td>\n",
       "      <td>0.2840</td>\n",
       "      <td>...</td>\n",
       "      <td>{'spotify': 'https://open.spotify.com/track/3I...</td>\n",
       "      <td>https://api.spotify.com/v1/tracks/3INAjmbsynUS...</td>\n",
       "      <td>False</td>\n",
       "      <td>True</td>\n",
       "      <td>Hellfire (from the series Arcane League of Leg...</td>\n",
       "      <td>68</td>\n",
       "      <td>https://p.scdn.co/mp3-preview/5273559112b09972...</td>\n",
       "      <td>5</td>\n",
       "      <td>track</td>\n",
       "      <td>spotify:track:3INAjmbsynUSIBUoqxrytc</td>\n",
       "    </tr>\n",
       "  </tbody>\n",
       "</table>\n",
       "<p>5 rows × 34 columns</p>\n",
       "</div>"
      ],
      "text/plain": [
       "   danceability  energy  key  loudness  mode  speechiness  acousticness  \\\n",
       "5         0.475   0.701    6    -7.050     1       0.0463      0.008280   \n",
       "3         0.628   0.902    2    -4.906     1       0.1740      0.003780   \n",
       "0         0.458   0.589    0    -8.305     1       0.0271      0.006410   \n",
       "2         0.479   0.751    8    -5.794     0       0.0580      0.019200   \n",
       "4         0.607   0.862    9    -5.223     1       0.1200      0.000587   \n",
       "\n",
       "   instrumentalness  liveness  valence  ...  \\\n",
       "5          0.037600     0.127   0.2900  ...   \n",
       "3          0.010500     0.409   0.7180  ...   \n",
       "0          0.000576     0.140   0.0554  ...   \n",
       "2          0.000019     0.111   0.5680  ...   \n",
       "4          0.000000     0.461   0.2840  ...   \n",
       "\n",
       "                                       external_urls  \\\n",
       "5  {'spotify': 'https://open.spotify.com/track/7f...   \n",
       "3  {'spotify': 'https://open.spotify.com/track/3E...   \n",
       "0  {'spotify': 'https://open.spotify.com/track/5Y...   \n",
       "2  {'spotify': 'https://open.spotify.com/track/7d...   \n",
       "4  {'spotify': 'https://open.spotify.com/track/3I...   \n",
       "\n",
       "                                                href is_local is_playable  \\\n",
       "5  https://api.spotify.com/v1/tracks/7fotwkvGTsn0...    False        True   \n",
       "3  https://api.spotify.com/v1/tracks/3EV36iJa1lmF...    False        True   \n",
       "0  https://api.spotify.com/v1/tracks/5YlMdOkIHnEG...    False        True   \n",
       "2  https://api.spotify.com/v1/tracks/7dsO7sKTEdix...    False        True   \n",
       "4  https://api.spotify.com/v1/tracks/3INAjmbsynUS...    False        True   \n",
       "\n",
       "                                                name popularity  \\\n",
       "5  To Ashes and Blood (from the series Arcane Lea...         71   \n",
       "3  Renegade (We Never Run) (from the series Arcan...         69   \n",
       "0  Heavy Is The Crown (Original Score) (from the ...         68   \n",
       "2  Sucker (from the series Arcane League of Legends)         68   \n",
       "4  Hellfire (from the series Arcane League of Leg...         68   \n",
       "\n",
       "                                         preview_url  track_number type_y  \\\n",
       "5  https://p.scdn.co/mp3-preview/ab36e7159aa8d6c2...             6  track   \n",
       "3  https://p.scdn.co/mp3-preview/842b142381f2a53e...             4  track   \n",
       "0  https://p.scdn.co/mp3-preview/73ce637e23856241...             1  track   \n",
       "2  https://p.scdn.co/mp3-preview/78d2538562c38098...             3  track   \n",
       "4  https://p.scdn.co/mp3-preview/5273559112b09972...             5  track   \n",
       "\n",
       "                                  uri_y  \n",
       "5  spotify:track:7fotwkvGTsn0N6KSia3TGW  \n",
       "3  spotify:track:3EV36iJa1lmFNutg3H7sUL  \n",
       "0  spotify:track:5YlMdOkIHnEGa7m2Ezh5uS  \n",
       "2  spotify:track:7dsO7sKTEdix1pe1t7SmP0  \n",
       "4  spotify:track:3INAjmbsynUSIBUoqxrytc  \n",
       "\n",
       "[5 rows x 34 columns]"
      ]
     },
     "execution_count": 189,
     "metadata": {},
     "output_type": "execute_result"
    }
   ],
   "source": [
    "s2_merged = pd.merge(s2_features_df, s2_tracks_df, \n",
    "         how = 'inner', on = 'id').\\\n",
    "sort_values('popularity', ascending = False).head()\n",
    "s2_merged.head()"
   ]
  },
  {
   "cell_type": "markdown",
   "id": "1bfcf7f9-38d0-49e1-8133-dd628ee883c7",
   "metadata": {},
   "source": [
    "## Album Compare\n",
    "Below I am adding the season from which the song is from to the dataframes and merging all the album data to compare."
   ]
  },
  {
   "cell_type": "code",
   "execution_count": 190,
   "id": "0b60de9e-a9c4-4914-9660-d72f0c0f5585",
   "metadata": {},
   "outputs": [
    {
     "data": {
      "text/plain": [
       "Index(['danceability', 'energy', 'key', 'loudness', 'mode', 'speechiness',\n",
       "       'acousticness', 'instrumentalness', 'liveness', 'valence', 'tempo',\n",
       "       'type_x', 'id', 'uri_x', 'track_href', 'analysis_url', 'duration_ms_x',\n",
       "       'time_signature', 'album', 'artists', 'disc_number', 'duration_ms_y',\n",
       "       'explicit', 'external_ids', 'external_urls', 'href', 'is_local',\n",
       "       'is_playable', 'name', 'popularity', 'preview_url', 'track_number',\n",
       "       'type_y', 'uri_y'],\n",
       "      dtype='object')"
      ]
     },
     "execution_count": 190,
     "metadata": {},
     "output_type": "execute_result"
    }
   ],
   "source": [
    "s1_merged['album'] = \"Arcane Season 1\"\n",
    "s2_merged['album'] = \"Arcane Season 2\"\n",
    "s1_merged.columns"
   ]
  },
  {
   "cell_type": "code",
   "execution_count": 191,
   "id": "775686a1-2ea4-49c1-88f0-21bac4b2dfea",
   "metadata": {},
   "outputs": [
    {
     "data": {
      "text/html": [
       "<div>\n",
       "<style scoped>\n",
       "    .dataframe tbody tr th:only-of-type {\n",
       "        vertical-align: middle;\n",
       "    }\n",
       "\n",
       "    .dataframe tbody tr th {\n",
       "        vertical-align: top;\n",
       "    }\n",
       "\n",
       "    .dataframe thead th {\n",
       "        text-align: right;\n",
       "    }\n",
       "</style>\n",
       "<table border=\"1\" class=\"dataframe\">\n",
       "  <thead>\n",
       "    <tr style=\"text-align: right;\">\n",
       "      <th></th>\n",
       "      <th>danceability</th>\n",
       "      <th>energy</th>\n",
       "      <th>key</th>\n",
       "      <th>loudness</th>\n",
       "      <th>mode</th>\n",
       "      <th>speechiness</th>\n",
       "      <th>acousticness</th>\n",
       "      <th>instrumentalness</th>\n",
       "      <th>liveness</th>\n",
       "      <th>valence</th>\n",
       "      <th>...</th>\n",
       "      <th>external_urls</th>\n",
       "      <th>href</th>\n",
       "      <th>is_local</th>\n",
       "      <th>is_playable</th>\n",
       "      <th>name</th>\n",
       "      <th>popularity</th>\n",
       "      <th>preview_url</th>\n",
       "      <th>track_number</th>\n",
       "      <th>type_y</th>\n",
       "      <th>uri_y</th>\n",
       "    </tr>\n",
       "  </thead>\n",
       "  <tbody>\n",
       "    <tr>\n",
       "      <th>5</th>\n",
       "      <td>0.475</td>\n",
       "      <td>0.701</td>\n",
       "      <td>6</td>\n",
       "      <td>-7.050</td>\n",
       "      <td>1</td>\n",
       "      <td>0.0463</td>\n",
       "      <td>0.008280</td>\n",
       "      <td>0.037600</td>\n",
       "      <td>0.127</td>\n",
       "      <td>0.2900</td>\n",
       "      <td>...</td>\n",
       "      <td>{'spotify': 'https://open.spotify.com/track/7f...</td>\n",
       "      <td>https://api.spotify.com/v1/tracks/7fotwkvGTsn0...</td>\n",
       "      <td>False</td>\n",
       "      <td>True</td>\n",
       "      <td>To Ashes and Blood (from the series Arcane Lea...</td>\n",
       "      <td>71</td>\n",
       "      <td>https://p.scdn.co/mp3-preview/ab36e7159aa8d6c2...</td>\n",
       "      <td>6</td>\n",
       "      <td>track</td>\n",
       "      <td>spotify:track:7fotwkvGTsn0N6KSia3TGW</td>\n",
       "    </tr>\n",
       "    <tr>\n",
       "      <th>3</th>\n",
       "      <td>0.628</td>\n",
       "      <td>0.902</td>\n",
       "      <td>2</td>\n",
       "      <td>-4.906</td>\n",
       "      <td>1</td>\n",
       "      <td>0.1740</td>\n",
       "      <td>0.003780</td>\n",
       "      <td>0.010500</td>\n",
       "      <td>0.409</td>\n",
       "      <td>0.7180</td>\n",
       "      <td>...</td>\n",
       "      <td>{'spotify': 'https://open.spotify.com/track/3E...</td>\n",
       "      <td>https://api.spotify.com/v1/tracks/3EV36iJa1lmF...</td>\n",
       "      <td>False</td>\n",
       "      <td>True</td>\n",
       "      <td>Renegade (We Never Run) (from the series Arcan...</td>\n",
       "      <td>69</td>\n",
       "      <td>https://p.scdn.co/mp3-preview/842b142381f2a53e...</td>\n",
       "      <td>4</td>\n",
       "      <td>track</td>\n",
       "      <td>spotify:track:3EV36iJa1lmFNutg3H7sUL</td>\n",
       "    </tr>\n",
       "    <tr>\n",
       "      <th>0</th>\n",
       "      <td>0.458</td>\n",
       "      <td>0.589</td>\n",
       "      <td>0</td>\n",
       "      <td>-8.305</td>\n",
       "      <td>1</td>\n",
       "      <td>0.0271</td>\n",
       "      <td>0.006410</td>\n",
       "      <td>0.000576</td>\n",
       "      <td>0.140</td>\n",
       "      <td>0.0554</td>\n",
       "      <td>...</td>\n",
       "      <td>{'spotify': 'https://open.spotify.com/track/5Y...</td>\n",
       "      <td>https://api.spotify.com/v1/tracks/5YlMdOkIHnEG...</td>\n",
       "      <td>False</td>\n",
       "      <td>True</td>\n",
       "      <td>Heavy Is The Crown (Original Score) (from the ...</td>\n",
       "      <td>68</td>\n",
       "      <td>https://p.scdn.co/mp3-preview/73ce637e23856241...</td>\n",
       "      <td>1</td>\n",
       "      <td>track</td>\n",
       "      <td>spotify:track:5YlMdOkIHnEGa7m2Ezh5uS</td>\n",
       "    </tr>\n",
       "    <tr>\n",
       "      <th>2</th>\n",
       "      <td>0.479</td>\n",
       "      <td>0.751</td>\n",
       "      <td>8</td>\n",
       "      <td>-5.794</td>\n",
       "      <td>0</td>\n",
       "      <td>0.0580</td>\n",
       "      <td>0.019200</td>\n",
       "      <td>0.000019</td>\n",
       "      <td>0.111</td>\n",
       "      <td>0.5680</td>\n",
       "      <td>...</td>\n",
       "      <td>{'spotify': 'https://open.spotify.com/track/7d...</td>\n",
       "      <td>https://api.spotify.com/v1/tracks/7dsO7sKTEdix...</td>\n",
       "      <td>False</td>\n",
       "      <td>True</td>\n",
       "      <td>Sucker (from the series Arcane League of Legends)</td>\n",
       "      <td>68</td>\n",
       "      <td>https://p.scdn.co/mp3-preview/78d2538562c38098...</td>\n",
       "      <td>3</td>\n",
       "      <td>track</td>\n",
       "      <td>spotify:track:7dsO7sKTEdix1pe1t7SmP0</td>\n",
       "    </tr>\n",
       "    <tr>\n",
       "      <th>4</th>\n",
       "      <td>0.607</td>\n",
       "      <td>0.862</td>\n",
       "      <td>9</td>\n",
       "      <td>-5.223</td>\n",
       "      <td>1</td>\n",
       "      <td>0.1200</td>\n",
       "      <td>0.000587</td>\n",
       "      <td>0.000000</td>\n",
       "      <td>0.461</td>\n",
       "      <td>0.2840</td>\n",
       "      <td>...</td>\n",
       "      <td>{'spotify': 'https://open.spotify.com/track/3I...</td>\n",
       "      <td>https://api.spotify.com/v1/tracks/3INAjmbsynUS...</td>\n",
       "      <td>False</td>\n",
       "      <td>True</td>\n",
       "      <td>Hellfire (from the series Arcane League of Leg...</td>\n",
       "      <td>68</td>\n",
       "      <td>https://p.scdn.co/mp3-preview/5273559112b09972...</td>\n",
       "      <td>5</td>\n",
       "      <td>track</td>\n",
       "      <td>spotify:track:3INAjmbsynUSIBUoqxrytc</td>\n",
       "    </tr>\n",
       "  </tbody>\n",
       "</table>\n",
       "<p>5 rows × 34 columns</p>\n",
       "</div>"
      ],
      "text/plain": [
       "   danceability  energy  key  loudness  mode  speechiness  acousticness  \\\n",
       "5         0.475   0.701    6    -7.050     1       0.0463      0.008280   \n",
       "3         0.628   0.902    2    -4.906     1       0.1740      0.003780   \n",
       "0         0.458   0.589    0    -8.305     1       0.0271      0.006410   \n",
       "2         0.479   0.751    8    -5.794     0       0.0580      0.019200   \n",
       "4         0.607   0.862    9    -5.223     1       0.1200      0.000587   \n",
       "\n",
       "   instrumentalness  liveness  valence  ...  \\\n",
       "5          0.037600     0.127   0.2900  ...   \n",
       "3          0.010500     0.409   0.7180  ...   \n",
       "0          0.000576     0.140   0.0554  ...   \n",
       "2          0.000019     0.111   0.5680  ...   \n",
       "4          0.000000     0.461   0.2840  ...   \n",
       "\n",
       "                                       external_urls  \\\n",
       "5  {'spotify': 'https://open.spotify.com/track/7f...   \n",
       "3  {'spotify': 'https://open.spotify.com/track/3E...   \n",
       "0  {'spotify': 'https://open.spotify.com/track/5Y...   \n",
       "2  {'spotify': 'https://open.spotify.com/track/7d...   \n",
       "4  {'spotify': 'https://open.spotify.com/track/3I...   \n",
       "\n",
       "                                                href is_local is_playable  \\\n",
       "5  https://api.spotify.com/v1/tracks/7fotwkvGTsn0...    False        True   \n",
       "3  https://api.spotify.com/v1/tracks/3EV36iJa1lmF...    False        True   \n",
       "0  https://api.spotify.com/v1/tracks/5YlMdOkIHnEG...    False        True   \n",
       "2  https://api.spotify.com/v1/tracks/7dsO7sKTEdix...    False        True   \n",
       "4  https://api.spotify.com/v1/tracks/3INAjmbsynUS...    False        True   \n",
       "\n",
       "                                                name popularity  \\\n",
       "5  To Ashes and Blood (from the series Arcane Lea...         71   \n",
       "3  Renegade (We Never Run) (from the series Arcan...         69   \n",
       "0  Heavy Is The Crown (Original Score) (from the ...         68   \n",
       "2  Sucker (from the series Arcane League of Legends)         68   \n",
       "4  Hellfire (from the series Arcane League of Leg...         68   \n",
       "\n",
       "                                         preview_url  track_number type_y  \\\n",
       "5  https://p.scdn.co/mp3-preview/ab36e7159aa8d6c2...             6  track   \n",
       "3  https://p.scdn.co/mp3-preview/842b142381f2a53e...             4  track   \n",
       "0  https://p.scdn.co/mp3-preview/73ce637e23856241...             1  track   \n",
       "2  https://p.scdn.co/mp3-preview/78d2538562c38098...             3  track   \n",
       "4  https://p.scdn.co/mp3-preview/5273559112b09972...             5  track   \n",
       "\n",
       "                                  uri_y  \n",
       "5  spotify:track:7fotwkvGTsn0N6KSia3TGW  \n",
       "3  spotify:track:3EV36iJa1lmFNutg3H7sUL  \n",
       "0  spotify:track:5YlMdOkIHnEGa7m2Ezh5uS  \n",
       "2  spotify:track:7dsO7sKTEdix1pe1t7SmP0  \n",
       "4  spotify:track:3INAjmbsynUSIBUoqxrytc  \n",
       "\n",
       "[5 rows x 34 columns]"
      ]
     },
     "execution_count": 191,
     "metadata": {},
     "output_type": "execute_result"
    }
   ],
   "source": [
    "album_compare = pd.concat([s1_merged.head(), s2_merged.head()], axis = 0).\\\n",
    "sort_values('popularity', ascending = False)\n",
    "album_compare.head()"
   ]
  },
  {
   "cell_type": "markdown",
   "id": "5ba986ae-de78-4ee8-95bd-6aa9920434d2",
   "metadata": {},
   "source": [
    "## Audio Features\n",
    "I chose to dissect energy and loudness out of all of the audio features. Below I plotted all of the various audio features and then compared which two had the most common histogram dataset. I chose energy and loudness because I feel like they go hand in hand with one another, and the data seems to prove that as well."
   ]
  },
  {
   "cell_type": "code",
   "execution_count": 266,
   "id": "28f0122a-d296-4a0b-a630-f0042a5a4d1e",
   "metadata": {},
   "outputs": [
    {
     "data": {
      "image/png": "[encoded data removed]",
      "text/plain": [
       "<Figure size 1000x800 with 8 Axes>"
      ]
     },
     "metadata": {},
     "output_type": "display_data"
    }
   ],
   "source": [
    "fig1, ax1 = plt.subplots(2, 4, figsize = (10, 8))\n",
    "ax1[0, 0].hist(album_compare['danceability'], bins=5)\n",
    "ax1[0, 1].hist(album_compare['energy'], bins=5)\n",
    "ax1[0, 2].hist(album_compare['loudness'], bins=5)\n",
    "ax1[0, 3].hist(album_compare['speechiness'], bins=5)\n",
    "ax1[1, 0].hist(album_compare['acousticness'], bins=5)\n",
    "ax1[1, 1].hist(album_compare['instrumentalness'], bins=5)\n",
    "ax1[1, 2].hist(album_compare['liveness'], bins=5)\n",
    "ax1[1, 3].hist(album_compare['valence'], bins=5)\n",
    "ax1[0, 0].set_xlabel('Danceability')\n",
    "ax1[0, 1].set_xlabel('Energy')\n",
    "ax1[0, 2].set_xlabel('Loudness')\n",
    "ax1[0, 3].set_xlabel('Speechiness')\n",
    "ax1[1, 0].set_xlabel('Acousticness')\n",
    "ax1[1, 1].set_xlabel('Instrumentalness')\n",
    "ax1[1, 2].set_xlabel('Liveness')\n",
    "ax1[1, 3].set_xlabel('Valence')\n",
    "\n",
    "plt.show()"
   ]
  },
  {
   "cell_type": "markdown",
   "id": "d3262356-3b9f-4f7c-9bfe-e7ebfc1c641a",
   "metadata": {},
   "source": [
    "## Energy & Loudness\n",
    "Below I am comparing the Energy and Loudness levels within the songs from the Arcane soundtracks. I can see that energy and loudness have similar increasing slopes. I then took the energy by loudness for both seasons and compared them on a scatter plot with the pink dots representing season 1, and the blue dots representing season 2 since those are the colors of the two main characters from the show. "
   ]
  },
  {
   "cell_type": "code",
   "execution_count": 280,
   "id": "6bb4ec6d-9322-4cbb-a9cd-05920e76e17a",
   "metadata": {},
   "outputs": [
    {
     "data": {
      "image/png": "[encoded data removed]",
      "text/plain": [
       "<Figure size 640x480 with 2 Axes>"
      ]
     },
     "metadata": {},
     "output_type": "display_data"
    }
   ],
   "source": [
    "fig2, ax2 = plt.subplots(1, 2)\n",
    "ax2[0].hist(album_compare['energy'])\n",
    "ax2[1].hist(album_compare['loudness'])\n",
    "ax2[0].set_xlabel('energy')\n",
    "ax2[1].set_xlabel('loudness')\n",
    "\n",
    "plt.show()"
   ]
  },
  {
   "cell_type": "code",
   "execution_count": 281,
   "id": "50b5ad7b-7509-4986-bc96-af91f0995edb",
   "metadata": {},
   "outputs": [
    {
     "data": {
      "image/png": "[encoded data removed]",
      "text/plain": [
       "<Figure size 400x200 with 1 Axes>"
      ]
     },
     "metadata": {},
     "output_type": "display_data"
    }
   ],
   "source": [
    "fig3, ax3 = plt.subplots(figsize = (4, 2))\n",
    "ax3.scatter(s1_merged['energy'], s1_merged['loudness'])\n",
    "ax3.set_xlabel('Energy')\n",
    "ax3.set_ylabel('Loudness')\n",
    "ax3.set_title('Season 1')\n",
    "\n",
    "plt.show()"
   ]
  },
  {
   "cell_type": "code",
   "execution_count": 282,
   "id": "c88a3e61-07cd-410e-b853-635c36d4e98b",
   "metadata": {},
   "outputs": [
    {
     "data": {
      "image/png": "[encoded data removed]",
      "text/plain": [
       "<Figure size 400x200 with 1 Axes>"
      ]
     },
     "metadata": {},
     "output_type": "display_data"
    }
   ],
   "source": [
    "fig4, ax4 = plt.subplots(figsize = (4, 2))\n",
    "ax4.scatter(s2_merged['energy'], s2_merged['loudness'])\n",
    "ax4.set_xlabel('Energy')\n",
    "ax4.set_ylabel('Loudness')\n",
    "ax4.set_title('Season 2')\n",
    "\n",
    "plt.show()"
   ]
  },
  {
   "cell_type": "code",
   "execution_count": 352,
   "id": "c5f6222f-eff4-4944-a24c-31e951fb6363",
   "metadata": {},
   "outputs": [
    {
     "data": {
      "image/png": "[encoded data removed]",
      "text/plain": [
       "<Figure size 640x480 with 1 Axes>"
      ]
     },
     "metadata": {},
     "output_type": "display_data"
    }
   ],
   "source": [
    "fig5, ax5 = plt.subplots()\n",
    "ax5.scatter(s1_merged['energy'], s1_merged['loudness'], color = 'magenta')\n",
    "ax5.set_xlabel('Energy')\n",
    "ax5.scatter(s2_merged['energy'], s2_merged['loudness'])\n",
    "ax5.set_ylabel('Loudness')\n",
    "ax5.set_title('Arcane Soundtrack S1 & S2: Energy by Loudness')\n",
    "ax5.legend(['Arcane Season 1', 'Arcane Season 2'])\n",
    "\n",
    "plt.style.use('fivethirtyeight')\n",
    "plt.show()"
   ]
  },
  {
   "cell_type": "markdown",
   "id": "59794bb9-1460-45de-8eac-1fc557650e31",
   "metadata": {},
   "source": [
    "## Danceability\n",
    "Comparing the 'danceability' audio feature between the Arcane Season 1 Soundtrack and Arcane Season 2 Soundtrack. Season 1 is represented by the boxplot on the left side with the pink dots. There it is clear that season 1 had less danceability in it in comparison to season 2. However, we can see from the scatter plot overlaying the boxplots that there is an outlier in season 1 that topped all of season 2. Season 2 is represented on the right with the blue dots, and overall, it had more danceability in comparison to season 2. "
   ]
  },
  {
   "cell_type": "code",
   "execution_count": 333,
   "id": "082d7385-df88-4c38-8392-fab9b1558f5a",
   "metadata": {},
   "outputs": [],
   "source": [
    "#fig6, ax6 = plt.subplots()\n",
    "#ax6.boxplot([s1_merged['danceability'], s2_merged['danceability']])\n",
    "#ax6.set_title('Danceability')\n",
    "\n",
    "#plt.show()"
   ]
  },
  {
   "cell_type": "code",
   "execution_count": 335,
   "id": "50bdd18a-b779-451c-ae34-2aeb7dbe28d2",
   "metadata": {},
   "outputs": [],
   "source": [
    "#fig7, ax7 = plt.subplots()\n",
    "#ax7.scatter(s1_merged['danceability'], s2_merged['danceability'])\n",
    "#ax7.set_xlabel('Season 1')\n",
    "#ax7.set_ylabel('Season 2')\n",
    "#ax7.set_title('Danceability')\n",
    "\n",
    "#plt.show()"
   ]
  },
  {
   "cell_type": "code",
   "execution_count": 336,
   "id": "16ec25b5-29e7-42f2-becb-2e776762493d",
   "metadata": {},
   "outputs": [
    {
     "data": {
      "image/png": "[encoded data removed]",
      "text/plain": [
       "<Figure size 640x480 with 1 Axes>"
      ]
     },
     "metadata": {},
     "output_type": "display_data"
    }
   ],
   "source": [
    "s1_xs = [1] * len(s1_merged)\n",
    "s2_xs = [2] * len(s2_merged)\n",
    "s1_x_jitter = np.random.uniform(-0.10, .10, len(s1_xs))\n",
    "s2_x_jitter = np.random.uniform(-.10, .10, len(s2_xs))\n",
    "\n",
    "fig8, ax8 = plt.subplots()\n",
    "ax8.boxplot(s1_merged['danceability'], positions = [1])\n",
    "ax8.boxplot(s2_merged['danceability'], positions = [2])\n",
    "ax8.scatter(s1_xs + s1_x_jitter, s1_merged['danceability'], color = 'magenta', alpha = .6)\n",
    "ax8.scatter(s2_xs + s2_x_jitter, s2_merged['danceability'], alpha = .6)\n",
    "ax8.set_title('Danceability')\n",
    "\n",
    "plt.show()"
   ]
  },
  {
   "cell_type": "markdown",
   "id": "7d21e91c-1608-4788-8de8-1162d77cc0ad",
   "metadata": {},
   "source": [
    "## Statistics\n",
    "Finding the statistical differences of the 'danceability' audio feature for both Arcane Season 1 and Season 2. I decided to test danceability with valence to see if valence had any effect on the danceability from either album. It appeared from the data that valence had more of an effect season 1 than it did in season 2. Season 1 had a valence difference of 0.3934 which is greater than the valence difference of 0.1634 from season 2. However, the difference is not that much, and therefore, I do not think valence has much of an effect on the danceability of the songs. "
   ]
  },
  {
   "cell_type": "code",
   "execution_count": 345,
   "id": "271f0158-7fea-4707-86f8-c2b5da446f48",
   "metadata": {},
   "outputs": [],
   "source": [
    "fit1 = smf.ols('danceability ~ valence', data = s1_merged).fit()"
   ]
  },
  {
   "cell_type": "code",
   "execution_count": 346,
   "id": "c05a96ca-1889-41ad-85d5-ef730f6078dc",
   "metadata": {},
   "outputs": [
    {
     "name": "stderr",
     "output_type": "stream",
     "text": [
      "/opt/anaconda3/envs/ematdata/lib/python3.12/site-packages/statsmodels/stats/stattools.py:74: ValueWarning: omni_normtest is not valid with less than 8 observations; 5 samples were given.\n",
      "  warn(\"omni_normtest is not valid with less than 8 observations; %i \"\n"
     ]
    },
    {
     "data": {
      "text/html": [
       "<table class=\"simpletable\">\n",
       "<caption>OLS Regression Results</caption>\n",
       "<tr>\n",
       "  <th>Dep. Variable:</th>      <td>danceability</td>   <th>  R-squared:         </th> <td>   0.928</td>\n",
       "</tr>\n",
       "<tr>\n",
       "  <th>Model:</th>                   <td>OLS</td>       <th>  Adj. R-squared:    </th> <td>   0.904</td>\n",
       "</tr>\n",
       "<tr>\n",
       "  <th>Method:</th>             <td>Least Squares</td>  <th>  F-statistic:       </th> <td>   38.85</td>\n",
       "</tr>\n",
       "<tr>\n",
       "  <th>Date:</th>             <td>Wed, 20 Nov 2024</td> <th>  Prob (F-statistic):</th>  <td>0.00833</td>\n",
       "</tr>\n",
       "<tr>\n",
       "  <th>Time:</th>                 <td>13:49:40</td>     <th>  Log-Likelihood:    </th> <td>  10.200</td>\n",
       "</tr>\n",
       "<tr>\n",
       "  <th>No. Observations:</th>      <td>     5</td>      <th>  AIC:               </th> <td>  -16.40</td>\n",
       "</tr>\n",
       "<tr>\n",
       "  <th>Df Residuals:</th>          <td>     3</td>      <th>  BIC:               </th> <td>  -17.18</td>\n",
       "</tr>\n",
       "<tr>\n",
       "  <th>Df Model:</th>              <td>     1</td>      <th>                     </th>     <td> </td>   \n",
       "</tr>\n",
       "<tr>\n",
       "  <th>Covariance Type:</th>      <td>nonrobust</td>    <th>                     </th>     <td> </td>   \n",
       "</tr>\n",
       "</table>\n",
       "<table class=\"simpletable\">\n",
       "<tr>\n",
       "      <td></td>         <th>coef</th>     <th>std err</th>      <th>t</th>      <th>P>|t|</th>  <th>[0.025</th>    <th>0.975]</th>  \n",
       "</tr>\n",
       "<tr>\n",
       "  <th>Intercept</th> <td>    0.3471</td> <td>    0.029</td> <td>   11.895</td> <td> 0.001</td> <td>    0.254</td> <td>    0.440</td>\n",
       "</tr>\n",
       "<tr>\n",
       "  <th>valence</th>   <td>    0.3934</td> <td>    0.063</td> <td>    6.233</td> <td> 0.008</td> <td>    0.193</td> <td>    0.594</td>\n",
       "</tr>\n",
       "</table>\n",
       "<table class=\"simpletable\">\n",
       "<tr>\n",
       "  <th>Omnibus:</th>       <td>   nan</td> <th>  Durbin-Watson:     </th> <td>   2.440</td>\n",
       "</tr>\n",
       "<tr>\n",
       "  <th>Prob(Omnibus):</th> <td>   nan</td> <th>  Jarque-Bera (JB):  </th> <td>   0.909</td>\n",
       "</tr>\n",
       "<tr>\n",
       "  <th>Skew:</th>          <td>-1.029</td> <th>  Prob(JB):          </th> <td>   0.635</td>\n",
       "</tr>\n",
       "<tr>\n",
       "  <th>Kurtosis:</th>      <td> 2.645</td> <th>  Cond. No.          </th> <td>    3.97</td>\n",
       "</tr>\n",
       "</table><br/><br/>Notes:<br/>[1] Standard Errors assume that the covariance matrix of the errors is correctly specified."
      ],
      "text/latex": [
       "\\begin{center}\n",
       "\\begin{tabular}{lclc}\n",
       "\\toprule\n",
       "\\textbf{Dep. Variable:}    &   danceability   & \\textbf{  R-squared:         } &     0.928   \\\\\n",
       "\\textbf{Model:}            &       OLS        & \\textbf{  Adj. R-squared:    } &     0.904   \\\\\n",
       "\\textbf{Method:}           &  Least Squares   & \\textbf{  F-statistic:       } &     38.85   \\\\\n",
       "\\textbf{Date:}             & Wed, 20 Nov 2024 & \\textbf{  Prob (F-statistic):} &  0.00833    \\\\\n",
       "\\textbf{Time:}             &     13:49:40     & \\textbf{  Log-Likelihood:    } &    10.200   \\\\\n",
       "\\textbf{No. Observations:} &           5      & \\textbf{  AIC:               } &    -16.40   \\\\\n",
       "\\textbf{Df Residuals:}     &           3      & \\textbf{  BIC:               } &    -17.18   \\\\\n",
       "\\textbf{Df Model:}         &           1      & \\textbf{                     } &             \\\\\n",
       "\\textbf{Covariance Type:}  &    nonrobust     & \\textbf{                     } &             \\\\\n",
       "\\bottomrule\n",
       "\\end{tabular}\n",
       "\\begin{tabular}{lcccccc}\n",
       "                   & \\textbf{coef} & \\textbf{std err} & \\textbf{t} & \\textbf{P$> |$t$|$} & \\textbf{[0.025} & \\textbf{0.975]}  \\\\\n",
       "\\midrule\n",
       "\\textbf{Intercept} &       0.3471  &        0.029     &    11.895  &         0.001        &        0.254    &        0.440     \\\\\n",
       "\\textbf{valence}   &       0.3934  &        0.063     &     6.233  &         0.008        &        0.193    &        0.594     \\\\\n",
       "\\bottomrule\n",
       "\\end{tabular}\n",
       "\\begin{tabular}{lclc}\n",
       "\\textbf{Omnibus:}       &    nan & \\textbf{  Durbin-Watson:     } &    2.440  \\\\\n",
       "\\textbf{Prob(Omnibus):} &    nan & \\textbf{  Jarque-Bera (JB):  } &    0.909  \\\\\n",
       "\\textbf{Skew:}          & -1.029 & \\textbf{  Prob(JB):          } &    0.635  \\\\\n",
       "\\textbf{Kurtosis:}      &  2.645 & \\textbf{  Cond. No.          } &     3.97  \\\\\n",
       "\\bottomrule\n",
       "\\end{tabular}\n",
       "%\\caption{OLS Regression Results}\n",
       "\\end{center}\n",
       "\n",
       "Notes: \\newline\n",
       " [1] Standard Errors assume that the covariance matrix of the errors is correctly specified."
      ],
      "text/plain": [
       "<class 'statsmodels.iolib.summary.Summary'>\n",
       "\"\"\"\n",
       "                            OLS Regression Results                            \n",
       "==============================================================================\n",
       "Dep. Variable:           danceability   R-squared:                       0.928\n",
       "Model:                            OLS   Adj. R-squared:                  0.904\n",
       "Method:                 Least Squares   F-statistic:                     38.85\n",
       "Date:                Wed, 20 Nov 2024   Prob (F-statistic):            0.00833\n",
       "Time:                        13:49:40   Log-Likelihood:                 10.200\n",
       "No. Observations:                   5   AIC:                            -16.40\n",
       "Df Residuals:                       3   BIC:                            -17.18\n",
       "Df Model:                           1                                         \n",
       "Covariance Type:            nonrobust                                         \n",
       "==============================================================================\n",
       "                 coef    std err          t      P>|t|      [0.025      0.975]\n",
       "------------------------------------------------------------------------------\n",
       "Intercept      0.3471      0.029     11.895      0.001       0.254       0.440\n",
       "valence        0.3934      0.063      6.233      0.008       0.193       0.594\n",
       "==============================================================================\n",
       "Omnibus:                          nan   Durbin-Watson:                   2.440\n",
       "Prob(Omnibus):                    nan   Jarque-Bera (JB):                0.909\n",
       "Skew:                          -1.029   Prob(JB):                        0.635\n",
       "Kurtosis:                       2.645   Cond. No.                         3.97\n",
       "==============================================================================\n",
       "\n",
       "Notes:\n",
       "[1] Standard Errors assume that the covariance matrix of the errors is correctly specified.\n",
       "\"\"\""
      ]
     },
     "execution_count": 346,
     "metadata": {},
     "output_type": "execute_result"
    }
   ],
   "source": [
    "fit1.summary()"
   ]
  },
  {
   "cell_type": "markdown",
   "id": "69445001-5bd0-46f4-8713-667c73059e90",
   "metadata": {},
   "source": [
    "### Season 1 Formula\n",
    "'danceability' = 0.3 + (0.3934 * 'valence') + E"
   ]
  },
  {
   "cell_type": "code",
   "execution_count": 349,
   "id": "fc5a9e14-80a1-4017-9d97-5cadd7b4c455",
   "metadata": {},
   "outputs": [],
   "source": [
    "fit2 = smf.ols('danceability ~ valence', data = s2_merged).fit()"
   ]
  },
  {
   "cell_type": "code",
   "execution_count": 350,
   "id": "039ca1c1-97e7-4f44-ba33-8abd61c0e999",
   "metadata": {},
   "outputs": [
    {
     "name": "stderr",
     "output_type": "stream",
     "text": [
      "/opt/anaconda3/envs/ematdata/lib/python3.12/site-packages/statsmodels/stats/stattools.py:74: ValueWarning: omni_normtest is not valid with less than 8 observations; 5 samples were given.\n",
      "  warn(\"omni_normtest is not valid with less than 8 observations; %i \"\n"
     ]
    },
    {
     "data": {
      "text/html": [
       "<table class=\"simpletable\">\n",
       "<caption>OLS Regression Results</caption>\n",
       "<tr>\n",
       "  <th>Dep. Variable:</th>      <td>danceability</td>   <th>  R-squared:         </th> <td>   0.276</td>\n",
       "</tr>\n",
       "<tr>\n",
       "  <th>Model:</th>                   <td>OLS</td>       <th>  Adj. R-squared:    </th> <td>   0.034</td>\n",
       "</tr>\n",
       "<tr>\n",
       "  <th>Method:</th>             <td>Least Squares</td>  <th>  F-statistic:       </th> <td>   1.143</td>\n",
       "</tr>\n",
       "<tr>\n",
       "  <th>Date:</th>             <td>Wed, 20 Nov 2024</td> <th>  Prob (F-statistic):</th>  <td> 0.363</td> \n",
       "</tr>\n",
       "<tr>\n",
       "  <th>Time:</th>                 <td>13:55:34</td>     <th>  Log-Likelihood:    </th> <td>  6.8273</td>\n",
       "</tr>\n",
       "<tr>\n",
       "  <th>No. Observations:</th>      <td>     5</td>      <th>  AIC:               </th> <td>  -9.655</td>\n",
       "</tr>\n",
       "<tr>\n",
       "  <th>Df Residuals:</th>          <td>     3</td>      <th>  BIC:               </th> <td>  -10.44</td>\n",
       "</tr>\n",
       "<tr>\n",
       "  <th>Df Model:</th>              <td>     1</td>      <th>                     </th>     <td> </td>   \n",
       "</tr>\n",
       "<tr>\n",
       "  <th>Covariance Type:</th>      <td>nonrobust</td>    <th>                     </th>     <td> </td>   \n",
       "</tr>\n",
       "</table>\n",
       "<table class=\"simpletable\">\n",
       "<tr>\n",
       "      <td></td>         <th>coef</th>     <th>std err</th>      <th>t</th>      <th>P>|t|</th>  <th>[0.025</th>    <th>0.975]</th>  \n",
       "</tr>\n",
       "<tr>\n",
       "  <th>Intercept</th> <td>    0.4668</td> <td>    0.069</td> <td>    6.810</td> <td> 0.006</td> <td>    0.249</td> <td>    0.685</td>\n",
       "</tr>\n",
       "<tr>\n",
       "  <th>valence</th>   <td>    0.1634</td> <td>    0.153</td> <td>    1.069</td> <td> 0.363</td> <td>   -0.323</td> <td>    0.650</td>\n",
       "</tr>\n",
       "</table>\n",
       "<table class=\"simpletable\">\n",
       "<tr>\n",
       "  <th>Omnibus:</th>       <td>   nan</td> <th>  Durbin-Watson:     </th> <td>   2.363</td>\n",
       "</tr>\n",
       "<tr>\n",
       "  <th>Prob(Omnibus):</th> <td>   nan</td> <th>  Jarque-Bera (JB):  </th> <td>   0.398</td>\n",
       "</tr>\n",
       "<tr>\n",
       "  <th>Skew:</th>          <td> 0.271</td> <th>  Prob(JB):          </th> <td>   0.819</td>\n",
       "</tr>\n",
       "<tr>\n",
       "  <th>Kurtosis:</th>      <td> 1.728</td> <th>  Cond. No.          </th> <td>    4.95</td>\n",
       "</tr>\n",
       "</table><br/><br/>Notes:<br/>[1] Standard Errors assume that the covariance matrix of the errors is correctly specified."
      ],
      "text/latex": [
       "\\begin{center}\n",
       "\\begin{tabular}{lclc}\n",
       "\\toprule\n",
       "\\textbf{Dep. Variable:}    &   danceability   & \\textbf{  R-squared:         } &     0.276   \\\\\n",
       "\\textbf{Model:}            &       OLS        & \\textbf{  Adj. R-squared:    } &     0.034   \\\\\n",
       "\\textbf{Method:}           &  Least Squares   & \\textbf{  F-statistic:       } &     1.143   \\\\\n",
       "\\textbf{Date:}             & Wed, 20 Nov 2024 & \\textbf{  Prob (F-statistic):} &    0.363    \\\\\n",
       "\\textbf{Time:}             &     13:55:34     & \\textbf{  Log-Likelihood:    } &    6.8273   \\\\\n",
       "\\textbf{No. Observations:} &           5      & \\textbf{  AIC:               } &    -9.655   \\\\\n",
       "\\textbf{Df Residuals:}     &           3      & \\textbf{  BIC:               } &    -10.44   \\\\\n",
       "\\textbf{Df Model:}         &           1      & \\textbf{                     } &             \\\\\n",
       "\\textbf{Covariance Type:}  &    nonrobust     & \\textbf{                     } &             \\\\\n",
       "\\bottomrule\n",
       "\\end{tabular}\n",
       "\\begin{tabular}{lcccccc}\n",
       "                   & \\textbf{coef} & \\textbf{std err} & \\textbf{t} & \\textbf{P$> |$t$|$} & \\textbf{[0.025} & \\textbf{0.975]}  \\\\\n",
       "\\midrule\n",
       "\\textbf{Intercept} &       0.4668  &        0.069     &     6.810  &         0.006        &        0.249    &        0.685     \\\\\n",
       "\\textbf{valence}   &       0.1634  &        0.153     &     1.069  &         0.363        &       -0.323    &        0.650     \\\\\n",
       "\\bottomrule\n",
       "\\end{tabular}\n",
       "\\begin{tabular}{lclc}\n",
       "\\textbf{Omnibus:}       &    nan & \\textbf{  Durbin-Watson:     } &    2.363  \\\\\n",
       "\\textbf{Prob(Omnibus):} &    nan & \\textbf{  Jarque-Bera (JB):  } &    0.398  \\\\\n",
       "\\textbf{Skew:}          &  0.271 & \\textbf{  Prob(JB):          } &    0.819  \\\\\n",
       "\\textbf{Kurtosis:}      &  1.728 & \\textbf{  Cond. No.          } &     4.95  \\\\\n",
       "\\bottomrule\n",
       "\\end{tabular}\n",
       "%\\caption{OLS Regression Results}\n",
       "\\end{center}\n",
       "\n",
       "Notes: \\newline\n",
       " [1] Standard Errors assume that the covariance matrix of the errors is correctly specified."
      ],
      "text/plain": [
       "<class 'statsmodels.iolib.summary.Summary'>\n",
       "\"\"\"\n",
       "                            OLS Regression Results                            \n",
       "==============================================================================\n",
       "Dep. Variable:           danceability   R-squared:                       0.276\n",
       "Model:                            OLS   Adj. R-squared:                  0.034\n",
       "Method:                 Least Squares   F-statistic:                     1.143\n",
       "Date:                Wed, 20 Nov 2024   Prob (F-statistic):              0.363\n",
       "Time:                        13:55:34   Log-Likelihood:                 6.8273\n",
       "No. Observations:                   5   AIC:                            -9.655\n",
       "Df Residuals:                       3   BIC:                            -10.44\n",
       "Df Model:                           1                                         \n",
       "Covariance Type:            nonrobust                                         \n",
       "==============================================================================\n",
       "                 coef    std err          t      P>|t|      [0.025      0.975]\n",
       "------------------------------------------------------------------------------\n",
       "Intercept      0.4668      0.069      6.810      0.006       0.249       0.685\n",
       "valence        0.1634      0.153      1.069      0.363      -0.323       0.650\n",
       "==============================================================================\n",
       "Omnibus:                          nan   Durbin-Watson:                   2.363\n",
       "Prob(Omnibus):                    nan   Jarque-Bera (JB):                0.398\n",
       "Skew:                           0.271   Prob(JB):                        0.819\n",
       "Kurtosis:                       1.728   Cond. No.                         4.95\n",
       "==============================================================================\n",
       "\n",
       "Notes:\n",
       "[1] Standard Errors assume that the covariance matrix of the errors is correctly specified.\n",
       "\"\"\""
      ]
     },
     "execution_count": 350,
     "metadata": {},
     "output_type": "execute_result"
    }
   ],
   "source": [
    "fit2.summary()"
   ]
  },
  {
   "cell_type": "markdown",
   "id": "9e4a31e8-42c2-45d9-b836-87ac0850742a",
   "metadata": {},
   "source": [
    "### Season 2 Formula\n",
    "'danceability' = 0.4 + (0.1634 * 'valence') + E"
   ]
  },
  {
   "cell_type": "markdown",
   "id": "81e29e9b-0df9-4f6e-a94e-01691f7116c6",
   "metadata": {},
   "source": [
    "## Conclusion\n",
    "Overall, both albums from Arcane show high points of energy and loudness. However, based off of the statistics, all other audio features are pretty low. Season 2 seems to be more popular than season 1, though. Season 2 also seems to have more danceability overall than season 1. Valence does not seem to play a strong factor in the danceability, though. "
   ]
  }
 ],
 "metadata": {
  "kernelspec": {
   "display_name": "Python 3 (ipykernel)",
   "language": "python",
   "name": "python3"
  },
  "language_info": {
   "codemirror_mode": {
    "name": "ipython",
    "version": 3
   },
   "file_extension": ".py",
   "mimetype": "text/x-python",
   "name": "python",
   "nbconvert_exporter": "python",
   "pygments_lexer": "ipython3",
   "version": "3.12.4"
  }
 },
 "nbformat": 4,
 "nbformat_minor": 5
}
